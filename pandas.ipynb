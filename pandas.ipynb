{
 "cells": [
  {
   "cell_type": "code",
   "execution_count": 70,
   "id": "eb1eaf8c-a56e-4bee-adfd-b65061f860f4",
   "metadata": {},
   "outputs": [],
   "source": [
    "import pandas as pd"
   ]
  },
  {
   "cell_type": "code",
   "execution_count": 72,
   "id": "7c4ef650-7198-4a5a-bd9b-46f18b78a9c9",
   "metadata": {},
   "outputs": [],
   "source": [
    "Data = {\n",
    "    'first':['John','jane','doe'],\n",
    "    'last':['smith','nolan','harry'],\n",
    "     'email':['john@gmail.com','jane@gmail.com','doe@gamail.com']\n",
    "}"
   ]
  },
  {
   "cell_type": "code",
   "execution_count": 74,
   "id": "62b7ab8f-5ef0-49ce-8dad-29205b9fa95d",
   "metadata": {},
   "outputs": [],
   "source": [
    "df = pd.DataFrame(Data)"
   ]
  },
  {
   "cell_type": "code",
   "execution_count": 76,
   "id": "e7f5f79d-65b4-42c2-8364-6aa122e33878",
   "metadata": {},
   "outputs": [
    {
     "data": {
      "text/html": [
       "<div>\n",
       "<style scoped>\n",
       "    .dataframe tbody tr th:only-of-type {\n",
       "        vertical-align: middle;\n",
       "    }\n",
       "\n",
       "    .dataframe tbody tr th {\n",
       "        vertical-align: top;\n",
       "    }\n",
       "\n",
       "    .dataframe thead th {\n",
       "        text-align: right;\n",
       "    }\n",
       "</style>\n",
       "<table border=\"1\" class=\"dataframe\">\n",
       "  <thead>\n",
       "    <tr style=\"text-align: right;\">\n",
       "      <th></th>\n",
       "      <th>first</th>\n",
       "      <th>last</th>\n",
       "      <th>email</th>\n",
       "    </tr>\n",
       "  </thead>\n",
       "  <tbody>\n",
       "    <tr>\n",
       "      <th>0</th>\n",
       "      <td>John</td>\n",
       "      <td>smith</td>\n",
       "      <td>john@gmail.com</td>\n",
       "    </tr>\n",
       "    <tr>\n",
       "      <th>1</th>\n",
       "      <td>jane</td>\n",
       "      <td>nolan</td>\n",
       "      <td>jane@gmail.com</td>\n",
       "    </tr>\n",
       "    <tr>\n",
       "      <th>2</th>\n",
       "      <td>doe</td>\n",
       "      <td>harry</td>\n",
       "      <td>doe@gamail.com</td>\n",
       "    </tr>\n",
       "  </tbody>\n",
       "</table>\n",
       "</div>"
      ],
      "text/plain": [
       "  first   last           email\n",
       "0  John  smith  john@gmail.com\n",
       "1  jane  nolan  jane@gmail.com\n",
       "2   doe  harry  doe@gamail.com"
      ]
     },
     "execution_count": 76,
     "metadata": {},
     "output_type": "execute_result"
    }
   ],
   "source": [
    "df"
   ]
  },
  {
   "cell_type": "markdown",
   "id": "ed549068-b88b-47ec-95fd-a25961a72961",
   "metadata": {},
   "source": [
    "Here, a dictionary named Data is created. This dictionary contains three keys: 'first', 'last', and 'email'. Each key maps to a list of strings representing first names, last names, and email addresses, respectively."
   ]
  },
  {
   "cell_type": "code",
   "execution_count": 79,
   "id": "e1060165-127e-4b2f-8b0b-c2c838e28960",
   "metadata": {},
   "outputs": [
    {
     "data": {
      "text/plain": [
       "pandas.core.series.Series"
      ]
     },
     "execution_count": 79,
     "metadata": {},
     "output_type": "execute_result"
    }
   ],
   "source": [
    "type(df['email'])"
   ]
  },
  {
   "cell_type": "markdown",
   "id": "961d6e1f-50ca-49a9-a3c0-ad66ae509934",
   "metadata": {},
   "source": [
    "The type() function is a built-in Python function that returns the type of the specified object. In this case, type(df['email']) will return the type of the 'email' column in the DataFrame df.\n"
   ]
  },
  {
   "cell_type": "code",
   "execution_count": 82,
   "id": "42b57257-83c6-4bef-8e59-83bfecd50c06",
   "metadata": {},
   "outputs": [
    {
     "data": {
      "text/html": [
       "<div>\n",
       "<style scoped>\n",
       "    .dataframe tbody tr th:only-of-type {\n",
       "        vertical-align: middle;\n",
       "    }\n",
       "\n",
       "    .dataframe tbody tr th {\n",
       "        vertical-align: top;\n",
       "    }\n",
       "\n",
       "    .dataframe thead th {\n",
       "        text-align: right;\n",
       "    }\n",
       "</style>\n",
       "<table border=\"1\" class=\"dataframe\">\n",
       "  <thead>\n",
       "    <tr style=\"text-align: right;\">\n",
       "      <th></th>\n",
       "      <th>email</th>\n",
       "      <th>first</th>\n",
       "    </tr>\n",
       "  </thead>\n",
       "  <tbody>\n",
       "    <tr>\n",
       "      <th>0</th>\n",
       "      <td>john@gmail.com</td>\n",
       "      <td>John</td>\n",
       "    </tr>\n",
       "    <tr>\n",
       "      <th>1</th>\n",
       "      <td>jane@gmail.com</td>\n",
       "      <td>jane</td>\n",
       "    </tr>\n",
       "    <tr>\n",
       "      <th>2</th>\n",
       "      <td>doe@gamail.com</td>\n",
       "      <td>doe</td>\n",
       "    </tr>\n",
       "  </tbody>\n",
       "</table>\n",
       "</div>"
      ],
      "text/plain": [
       "            email first\n",
       "0  john@gmail.com  John\n",
       "1  jane@gmail.com  jane\n",
       "2  doe@gamail.com   doe"
      ]
     },
     "execution_count": 82,
     "metadata": {},
     "output_type": "execute_result"
    }
   ],
   "source": [
    "df[['email','first']]"
   ]
  },
  {
   "cell_type": "code",
   "execution_count": 84,
   "id": "8c6cd02a-50cc-44d5-b340-86126f6fafe9",
   "metadata": {},
   "outputs": [
    {
     "data": {
      "text/plain": [
       "first              John\n",
       "last              smith\n",
       "email    john@gmail.com\n",
       "Name: 0, dtype: object"
      ]
     },
     "execution_count": 84,
     "metadata": {},
     "output_type": "execute_result"
    }
   ],
   "source": [
    "df.iloc[0]"
   ]
  },
  {
   "cell_type": "markdown",
   "id": "16d1925d-5a56-4d48-810b-0d3104f53f22",
   "metadata": {},
   "source": [
    "The selected code `df.iloc[0]` is used to access the first row of a DataFrame `df` using integer-location based indexing. Here's a step-by-step explanation:\n"
   ]
  },
  {
   "cell_type": "code",
   "execution_count": 87,
   "id": "c5b52598-e771-4c07-95c9-870ddad7bfd3",
   "metadata": {},
   "outputs": [
    {
     "data": {
      "text/plain": [
       "first              John\n",
       "last              smith\n",
       "email    john@gmail.com\n",
       "Name: 0, dtype: object"
      ]
     },
     "execution_count": 87,
     "metadata": {},
     "output_type": "execute_result"
    }
   ],
   "source": [
    "df.loc[0]"
   ]
  },
  {
   "cell_type": "code",
   "execution_count": 89,
   "id": "7f19d6bf-8a2f-4fbd-bf2e-637f4579bfdf",
   "metadata": {},
   "outputs": [
    {
     "data": {
      "text/html": [
       "<div>\n",
       "<style scoped>\n",
       "    .dataframe tbody tr th:only-of-type {\n",
       "        vertical-align: middle;\n",
       "    }\n",
       "\n",
       "    .dataframe tbody tr th {\n",
       "        vertical-align: top;\n",
       "    }\n",
       "\n",
       "    .dataframe thead th {\n",
       "        text-align: right;\n",
       "    }\n",
       "</style>\n",
       "<table border=\"1\" class=\"dataframe\">\n",
       "  <thead>\n",
       "    <tr style=\"text-align: right;\">\n",
       "      <th></th>\n",
       "      <th>email</th>\n",
       "    </tr>\n",
       "  </thead>\n",
       "  <tbody>\n",
       "    <tr>\n",
       "      <th>0</th>\n",
       "      <td>john@gmail.com</td>\n",
       "    </tr>\n",
       "    <tr>\n",
       "      <th>1</th>\n",
       "      <td>jane@gmail.com</td>\n",
       "    </tr>\n",
       "  </tbody>\n",
       "</table>\n",
       "</div>"
      ],
      "text/plain": [
       "            email\n",
       "0  john@gmail.com\n",
       "1  jane@gmail.com"
      ]
     },
     "execution_count": 89,
     "metadata": {},
     "output_type": "execute_result"
    }
   ],
   "source": [
    "df.loc[[0,1],['email']]"
   ]
  },
  {
   "cell_type": "markdown",
   "id": "a98b7382-a868-4829-bf7f-9bd2ae30e1aa",
   "metadata": {},
   "source": [
    "df.loc[[0,1],['email']]` is used to access specific rows and columns from a DataFrame"
   ]
  },
  {
   "cell_type": "code",
   "execution_count": 92,
   "id": "eebcd941-36f4-4330-8df6-077a1adec7bf",
   "metadata": {},
   "outputs": [
    {
     "data": {
      "text/plain": [
       "email\n",
       "john@gmail.com    1\n",
       "jane@gmail.com    1\n",
       "doe@gamail.com    1\n",
       "Name: count, dtype: int64"
      ]
     },
     "execution_count": 92,
     "metadata": {},
     "output_type": "execute_result"
    }
   ],
   "source": [
    "df['email'].value_counts()"
   ]
  },
  {
   "cell_type": "markdown",
   "id": "872a55d0-51f2-4c5b-ae1a-cb9fd3a7f236",
   "metadata": {},
   "source": [
    "value_counts()` - This method is called on the Series obtained from the 'email' column. It counts the occurrences of each unique value (email address) in the column and returns a new Series with the unique email addresses as the index and their corresponding counts as the values.\n"
   ]
  },
  {
   "cell_type": "code",
   "execution_count": 95,
   "id": "6293f606-8afa-40ed-9e7e-be0a9fca0ea6",
   "metadata": {},
   "outputs": [
    {
     "data": {
      "text/plain": [
       "0    john@gmail.com\n",
       "1    jane@gmail.com\n",
       "2    doe@gamail.com\n",
       "Name: email, dtype: object"
      ]
     },
     "execution_count": 95,
     "metadata": {},
     "output_type": "execute_result"
    }
   ],
   "source": [
    "df.loc[0:2,'email']"
   ]
  },
  {
   "cell_type": "code",
   "execution_count": 97,
   "id": "b840313a-13ca-43b2-9803-f8e9fc9ce4dd",
   "metadata": {},
   "outputs": [
    {
     "data": {
      "text/html": [
       "<div>\n",
       "<style scoped>\n",
       "    .dataframe tbody tr th:only-of-type {\n",
       "        vertical-align: middle;\n",
       "    }\n",
       "\n",
       "    .dataframe tbody tr th {\n",
       "        vertical-align: top;\n",
       "    }\n",
       "\n",
       "    .dataframe thead th {\n",
       "        text-align: right;\n",
       "    }\n",
       "</style>\n",
       "<table border=\"1\" class=\"dataframe\">\n",
       "  <thead>\n",
       "    <tr style=\"text-align: right;\">\n",
       "      <th></th>\n",
       "      <th>first</th>\n",
       "      <th>last</th>\n",
       "      <th>email</th>\n",
       "    </tr>\n",
       "  </thead>\n",
       "  <tbody>\n",
       "    <tr>\n",
       "      <th>0</th>\n",
       "      <td>John</td>\n",
       "      <td>smith</td>\n",
       "      <td>john@gmail.com</td>\n",
       "    </tr>\n",
       "    <tr>\n",
       "      <th>1</th>\n",
       "      <td>jane</td>\n",
       "      <td>nolan</td>\n",
       "      <td>jane@gmail.com</td>\n",
       "    </tr>\n",
       "  </tbody>\n",
       "</table>\n",
       "</div>"
      ],
      "text/plain": [
       "  first   last           email\n",
       "0  John  smith  john@gmail.com\n",
       "1  jane  nolan  jane@gmail.com"
      ]
     },
     "execution_count": 97,
     "metadata": {},
     "output_type": "execute_result"
    }
   ],
   "source": [
    "df.loc[0:1]"
   ]
  },
  {
   "cell_type": "code",
   "execution_count": 99,
   "id": "45b468af-ce2d-458c-b1fc-3f96c6cea9dd",
   "metadata": {},
   "outputs": [
    {
     "data": {
      "text/plain": [
       "0     True\n",
       "1    False\n",
       "2    False\n",
       "Name: last, dtype: bool"
      ]
     },
     "execution_count": 99,
     "metadata": {},
     "output_type": "execute_result"
    }
   ],
   "source": [
    "df['last'] == 'smith'"
   ]
  },
  {
   "cell_type": "code",
   "execution_count": 101,
   "id": "0eb42625-abef-4157-9e2d-05d11e0d5615",
   "metadata": {},
   "outputs": [
    {
     "data": {
      "text/html": [
       "<div>\n",
       "<style scoped>\n",
       "    .dataframe tbody tr th:only-of-type {\n",
       "        vertical-align: middle;\n",
       "    }\n",
       "\n",
       "    .dataframe tbody tr th {\n",
       "        vertical-align: top;\n",
       "    }\n",
       "\n",
       "    .dataframe thead th {\n",
       "        text-align: right;\n",
       "    }\n",
       "</style>\n",
       "<table border=\"1\" class=\"dataframe\">\n",
       "  <thead>\n",
       "    <tr style=\"text-align: right;\">\n",
       "      <th></th>\n",
       "      <th>first</th>\n",
       "      <th>last</th>\n",
       "      <th>email</th>\n",
       "    </tr>\n",
       "  </thead>\n",
       "  <tbody>\n",
       "    <tr>\n",
       "      <th>0</th>\n",
       "      <td>John</td>\n",
       "      <td>smith</td>\n",
       "      <td>john@gmail.com</td>\n",
       "    </tr>\n",
       "  </tbody>\n",
       "</table>\n",
       "</div>"
      ],
      "text/plain": [
       "  first   last           email\n",
       "0  John  smith  john@gmail.com"
      ]
     },
     "execution_count": 101,
     "metadata": {},
     "output_type": "execute_result"
    }
   ],
   "source": [
    "df[df['last'] == 'smith']"
   ]
  },
  {
   "cell_type": "code",
   "execution_count": 103,
   "id": "c1346158-f906-4482-b9e4-80aa6f216a4e",
   "metadata": {},
   "outputs": [
    {
     "data": {
      "text/html": [
       "<div>\n",
       "<style scoped>\n",
       "    .dataframe tbody tr th:only-of-type {\n",
       "        vertical-align: middle;\n",
       "    }\n",
       "\n",
       "    .dataframe tbody tr th {\n",
       "        vertical-align: top;\n",
       "    }\n",
       "\n",
       "    .dataframe thead th {\n",
       "        text-align: right;\n",
       "    }\n",
       "</style>\n",
       "<table border=\"1\" class=\"dataframe\">\n",
       "  <thead>\n",
       "    <tr style=\"text-align: right;\">\n",
       "      <th></th>\n",
       "      <th>first</th>\n",
       "      <th>last</th>\n",
       "      <th>email</th>\n",
       "    </tr>\n",
       "  </thead>\n",
       "  <tbody>\n",
       "    <tr>\n",
       "      <th>0</th>\n",
       "      <td>John</td>\n",
       "      <td>smith</td>\n",
       "      <td>john@gmail.com</td>\n",
       "    </tr>\n",
       "  </tbody>\n",
       "</table>\n",
       "</div>"
      ],
      "text/plain": [
       "  first   last           email\n",
       "0  John  smith  john@gmail.com"
      ]
     },
     "execution_count": 103,
     "metadata": {},
     "output_type": "execute_result"
    }
   ],
   "source": [
    "x = df['last'] == 'smith'\n",
    "df.loc[x]"
   ]
  },
  {
   "cell_type": "code",
   "execution_count": 105,
   "id": "78dc0123-0753-4ff4-80e7-bd5b249340b4",
   "metadata": {},
   "outputs": [],
   "source": [
    "df.columns = ['first_name','last_name','email']"
   ]
  },
  {
   "cell_type": "code",
   "execution_count": 107,
   "id": "9b2c8ca4-e6ca-453a-8721-aff204fca5a4",
   "metadata": {},
   "outputs": [
    {
     "data": {
      "text/html": [
       "<div>\n",
       "<style scoped>\n",
       "    .dataframe tbody tr th:only-of-type {\n",
       "        vertical-align: middle;\n",
       "    }\n",
       "\n",
       "    .dataframe tbody tr th {\n",
       "        vertical-align: top;\n",
       "    }\n",
       "\n",
       "    .dataframe thead th {\n",
       "        text-align: right;\n",
       "    }\n",
       "</style>\n",
       "<table border=\"1\" class=\"dataframe\">\n",
       "  <thead>\n",
       "    <tr style=\"text-align: right;\">\n",
       "      <th></th>\n",
       "      <th>first_name</th>\n",
       "      <th>last_name</th>\n",
       "      <th>email</th>\n",
       "    </tr>\n",
       "  </thead>\n",
       "  <tbody>\n",
       "    <tr>\n",
       "      <th>0</th>\n",
       "      <td>John</td>\n",
       "      <td>smith</td>\n",
       "      <td>john@gmail.com</td>\n",
       "    </tr>\n",
       "    <tr>\n",
       "      <th>1</th>\n",
       "      <td>jane</td>\n",
       "      <td>nolan</td>\n",
       "      <td>jane@gmail.com</td>\n",
       "    </tr>\n",
       "    <tr>\n",
       "      <th>2</th>\n",
       "      <td>doe</td>\n",
       "      <td>harry</td>\n",
       "      <td>doe@gamail.com</td>\n",
       "    </tr>\n",
       "  </tbody>\n",
       "</table>\n",
       "</div>"
      ],
      "text/plain": [
       "  first_name last_name           email\n",
       "0       John     smith  john@gmail.com\n",
       "1       jane     nolan  jane@gmail.com\n",
       "2        doe     harry  doe@gamail.com"
      ]
     },
     "execution_count": 107,
     "metadata": {},
     "output_type": "execute_result"
    }
   ],
   "source": [
    "df"
   ]
  },
  {
   "cell_type": "markdown",
   "id": "5a47078e-3c48-45b0-a198-a976ed4b9d9e",
   "metadata": {},
   "source": [
    "['first_name','last_name','email']` is used to rename the columns of a DataFrame"
   ]
  },
  {
   "cell_type": "code",
   "execution_count": 110,
   "id": "c1f9a766-f698-43e3-84cf-d2bfd80d944b",
   "metadata": {},
   "outputs": [],
   "source": [
    "df.columns = [df.columns.str.replace('_',' ')]"
   ]
  },
  {
   "cell_type": "code",
   "execution_count": 112,
   "id": "c89ab332-e9c7-4485-90a7-62571e6b2c76",
   "metadata": {},
   "outputs": [
    {
     "data": {
      "text/html": [
       "<div>\n",
       "<style scoped>\n",
       "    .dataframe tbody tr th:only-of-type {\n",
       "        vertical-align: middle;\n",
       "    }\n",
       "\n",
       "    .dataframe tbody tr th {\n",
       "        vertical-align: top;\n",
       "    }\n",
       "\n",
       "    .dataframe thead tr th {\n",
       "        text-align: left;\n",
       "    }\n",
       "</style>\n",
       "<table border=\"1\" class=\"dataframe\">\n",
       "  <thead>\n",
       "    <tr>\n",
       "      <th></th>\n",
       "      <th>first name</th>\n",
       "      <th>last name</th>\n",
       "      <th>email</th>\n",
       "    </tr>\n",
       "  </thead>\n",
       "  <tbody>\n",
       "    <tr>\n",
       "      <th>0</th>\n",
       "      <td>John</td>\n",
       "      <td>smith</td>\n",
       "      <td>john@gmail.com</td>\n",
       "    </tr>\n",
       "    <tr>\n",
       "      <th>1</th>\n",
       "      <td>jane</td>\n",
       "      <td>nolan</td>\n",
       "      <td>jane@gmail.com</td>\n",
       "    </tr>\n",
       "    <tr>\n",
       "      <th>2</th>\n",
       "      <td>doe</td>\n",
       "      <td>harry</td>\n",
       "      <td>doe@gamail.com</td>\n",
       "    </tr>\n",
       "  </tbody>\n",
       "</table>\n",
       "</div>"
      ],
      "text/plain": [
       "  first name last name           email\n",
       "0       John     smith  john@gmail.com\n",
       "1       jane     nolan  jane@gmail.com\n",
       "2        doe     harry  doe@gamail.com"
      ]
     },
     "execution_count": 112,
     "metadata": {},
     "output_type": "execute_result"
    }
   ],
   "source": [
    "df"
   ]
  },
  {
   "cell_type": "markdown",
   "id": "0e8e577a-edfd-4db0-af32-cd86de03ea8f",
   "metadata": {},
   "source": [
    "1. `df.columns.str.replace('_',' ')` - This uses the `str.replace()` method to replace all underscores (`_`) in the column names with spaces (` `). The `str` accessor allows for string operations on each element of the index.\n",
    "\n",
    "2. `[ ... ]` - The result of the `str.replace()` operation is wrapped in square brackets, which converts the output into a list.\n",
    "\n",
    "3. `df.columns = ...` - Finally, the modified list of column names (with underscores replaced by spaces) is assigned back to `df.columns`, effectively updating the DataFrame's column names. "
   ]
  },
  {
   "cell_type": "code",
   "execution_count": 130,
   "id": "38e8b3a6-c4a4-4629-98e9-b103c5a70d2e",
   "metadata": {},
   "outputs": [],
   "source": [
    "df.loc[3,['first name','last name','email']] = ['jack','oliver','jack@gmail.com']"
   ]
  },
  {
   "cell_type": "code",
   "execution_count": 132,
   "id": "30fe9608-1596-437b-b766-80e1db4e87a0",
   "metadata": {},
   "outputs": [
    {
     "data": {
      "text/html": [
       "<div>\n",
       "<style scoped>\n",
       "    .dataframe tbody tr th:only-of-type {\n",
       "        vertical-align: middle;\n",
       "    }\n",
       "\n",
       "    .dataframe tbody tr th {\n",
       "        vertical-align: top;\n",
       "    }\n",
       "\n",
       "    .dataframe thead tr th {\n",
       "        text-align: left;\n",
       "    }\n",
       "</style>\n",
       "<table border=\"1\" class=\"dataframe\">\n",
       "  <thead>\n",
       "    <tr>\n",
       "      <th></th>\n",
       "      <th>first name</th>\n",
       "      <th>last name</th>\n",
       "      <th>email</th>\n",
       "    </tr>\n",
       "  </thead>\n",
       "  <tbody>\n",
       "    <tr>\n",
       "      <th>0</th>\n",
       "      <td>John</td>\n",
       "      <td>smith</td>\n",
       "      <td>john@gmail.com</td>\n",
       "    </tr>\n",
       "    <tr>\n",
       "      <th>1</th>\n",
       "      <td>jane</td>\n",
       "      <td>nolan</td>\n",
       "      <td>jane@gmail.com</td>\n",
       "    </tr>\n",
       "    <tr>\n",
       "      <th>2</th>\n",
       "      <td>doe</td>\n",
       "      <td>harry</td>\n",
       "      <td>doe@gamail.com</td>\n",
       "    </tr>\n",
       "    <tr>\n",
       "      <th>3</th>\n",
       "      <td>jack</td>\n",
       "      <td>oliver</td>\n",
       "      <td>jack@gmail.com</td>\n",
       "    </tr>\n",
       "  </tbody>\n",
       "</table>\n",
       "</div>"
      ],
      "text/plain": [
       "  first name last name           email\n",
       "0       John     smith  john@gmail.com\n",
       "1       jane     nolan  jane@gmail.com\n",
       "2        doe     harry  doe@gamail.com\n",
       "3       jack    oliver  jack@gmail.com"
      ]
     },
     "execution_count": 132,
     "metadata": {},
     "output_type": "execute_result"
    }
   ],
   "source": [
    "df"
   ]
  },
  {
   "cell_type": "markdown",
   "id": "bc2dc0d8-d8df-440d-83a3-43f678dfebb8",
   "metadata": {},
   "source": [
    "\n",
    "1. `df.loc[3, ...]` - This part uses the `.loc` indexer to access a specific row in the DataFrame `df`. The number `3` indicates that it is targeting the row with index 3.\n",
    "\n",
    "2. `['first name','last name','email']` - This list specifies the columns that will be updated in the selected row. It indicates that the values for the columns 'first name', 'last name', and 'email' will be modified.\n",
    "\n",
    "3. `= ['jack','oliver','jack@gmail.com']` - This assignment sets the values of the specified columns in row 3 to 'jack' for 'first name', 'oliver' for 'last name', and 'jack@gmail.com' for 'email'."
   ]
  },
  {
   "cell_type": "code",
   "execution_count": 158,
   "id": "e197fc00-910d-42cd-8335-51fc46dda5d1",
   "metadata": {},
   "outputs": [
    {
     "data": {
      "text/html": [
       "<div>\n",
       "<style scoped>\n",
       "    .dataframe tbody tr th:only-of-type {\n",
       "        vertical-align: middle;\n",
       "    }\n",
       "\n",
       "    .dataframe tbody tr th {\n",
       "        vertical-align: top;\n",
       "    }\n",
       "\n",
       "    .dataframe thead tr th {\n",
       "        text-align: left;\n",
       "    }\n",
       "</style>\n",
       "<table border=\"1\" class=\"dataframe\">\n",
       "  <thead>\n",
       "    <tr>\n",
       "      <th></th>\n",
       "      <th>last name</th>\n",
       "    </tr>\n",
       "  </thead>\n",
       "  <tbody>\n",
       "    <tr>\n",
       "      <th>0</th>\n",
       "      <td>smith</td>\n",
       "    </tr>\n",
       "    <tr>\n",
       "      <th>1</th>\n",
       "      <td>nolan</td>\n",
       "    </tr>\n",
       "    <tr>\n",
       "      <th>2</th>\n",
       "      <td>daniel</td>\n",
       "    </tr>\n",
       "    <tr>\n",
       "      <th>3</th>\n",
       "      <td>oliver</td>\n",
       "    </tr>\n",
       "  </tbody>\n",
       "</table>\n",
       "</div>"
      ],
      "text/plain": [
       "  last name\n",
       "0     smith\n",
       "1     nolan\n",
       "2    daniel\n",
       "3    oliver"
      ]
     },
     "execution_count": 158,
     "metadata": {},
     "output_type": "execute_result"
    }
   ],
   "source": [
    "df['last name'].replace({'harry': 'daniel'})"
   ]
  },
  {
   "cell_type": "markdown",
   "id": "55eba7f6-d609-4a05-bc11-a6528061547e",
   "metadata": {},
   "source": [
    "\n",
    "1. `df['last name']` - This accesses the column named 'last name' in the DataFrame `df`.\n",
    "\n",
    "2. `.replace({'harry': 'daniel'})` - This method is called on the 'last name' column. It replaces occurrences of the string 'harry' with 'daniel' in that column.\n",
    "\n",
    "3. The result of this operation is a new Series with the specified replacements made, but it does not modify the original DataFrame `df` unless the result is assigned back to a column or the DataFrame itself. "
   ]
  },
  {
   "cell_type": "code",
   "execution_count": 161,
   "id": "dc06597f-6d7c-4bae-b9c8-7a392e0608cf",
   "metadata": {},
   "outputs": [],
   "source": [
    "df.columns = ['first','last','email']"
   ]
  },
  {
   "cell_type": "code",
   "execution_count": 165,
   "id": "3ffa6ad7-0c18-44c2-b594-e3cf29ac0b87",
   "metadata": {},
   "outputs": [],
   "source": [
    "df['full name'] = df['first'] + ' ' + df['last']"
   ]
  },
  {
   "cell_type": "markdown",
   "id": "2b18f6da-b271-4dec-a442-7222a1249b78",
   "metadata": {},
   "source": [
    "1. **Column Creation**: It creates a new column in the DataFrame `df` called `'full name'`.\n",
    "\n",
    "2. **String Concatenation**: The new column is populated by concatenating the values from the existing columns `'first'` and `'last'`. \n",
    "\n",
    "3. **Space Separator**: The string `' '` (a space) is added between the first and last names to ensure that the full name is formatted correctly."
   ]
  },
  {
   "cell_type": "code",
   "execution_count": 168,
   "id": "b27e1ca0-559c-4694-a550-a33a70e4df38",
   "metadata": {},
   "outputs": [
    {
     "data": {
      "text/html": [
       "<div>\n",
       "<style scoped>\n",
       "    .dataframe tbody tr th:only-of-type {\n",
       "        vertical-align: middle;\n",
       "    }\n",
       "\n",
       "    .dataframe tbody tr th {\n",
       "        vertical-align: top;\n",
       "    }\n",
       "\n",
       "    .dataframe thead th {\n",
       "        text-align: right;\n",
       "    }\n",
       "</style>\n",
       "<table border=\"1\" class=\"dataframe\">\n",
       "  <thead>\n",
       "    <tr style=\"text-align: right;\">\n",
       "      <th></th>\n",
       "      <th>first</th>\n",
       "      <th>last</th>\n",
       "      <th>email</th>\n",
       "      <th>full name</th>\n",
       "    </tr>\n",
       "  </thead>\n",
       "  <tbody>\n",
       "    <tr>\n",
       "      <th>0</th>\n",
       "      <td>John</td>\n",
       "      <td>smith</td>\n",
       "      <td>john@gmail.com</td>\n",
       "      <td>John smith</td>\n",
       "    </tr>\n",
       "    <tr>\n",
       "      <th>1</th>\n",
       "      <td>jane</td>\n",
       "      <td>nolan</td>\n",
       "      <td>jane@gmail.com</td>\n",
       "      <td>jane nolan</td>\n",
       "    </tr>\n",
       "    <tr>\n",
       "      <th>2</th>\n",
       "      <td>doe</td>\n",
       "      <td>harry</td>\n",
       "      <td>doe@gamail.com</td>\n",
       "      <td>doe harry</td>\n",
       "    </tr>\n",
       "    <tr>\n",
       "      <th>3</th>\n",
       "      <td>jack</td>\n",
       "      <td>oliver</td>\n",
       "      <td>jack@gmail.com</td>\n",
       "      <td>jack oliver</td>\n",
       "    </tr>\n",
       "  </tbody>\n",
       "</table>\n",
       "</div>"
      ],
      "text/plain": [
       "  first    last           email    full name\n",
       "0  John   smith  john@gmail.com   John smith\n",
       "1  jane   nolan  jane@gmail.com   jane nolan\n",
       "2   doe   harry  doe@gamail.com    doe harry\n",
       "3  jack  oliver  jack@gmail.com  jack oliver"
      ]
     },
     "execution_count": 168,
     "metadata": {},
     "output_type": "execute_result"
    }
   ],
   "source": [
    "df"
   ]
  },
  {
   "cell_type": "code",
   "execution_count": 170,
   "id": "d26fb839-0b62-4b7a-af0e-1e0dc0af188f",
   "metadata": {},
   "outputs": [],
   "source": [
    "df.drop(columns = ['first','last'],inplace=True)"
   ]
  },
  {
   "cell_type": "markdown",
   "id": "97642409-9553-45dc-9201-0929eca943ff",
   "metadata": {},
   "source": [
    "1. `df.drop(...)` - This method is called on the DataFrame `df` to remove specified columns.\n",
    "\n",
    "2. `columns = ['first', 'last']` - This argument specifies the list of column names to be dropped from the DataFrame. In this case, the columns named 'first' and 'last' will be removed.\n",
    "\n",
    "3. `inplace=True` - This parameter indicates that the operation should modify the original DataFrame `df` directly, rather than returning a new DataFrame with the specified columns removed. If set to `False`, a new DataFrame would be returned, and the original `df` would remain unchanged"
   ]
  },
  {
   "cell_type": "code",
   "execution_count": 173,
   "id": "cf89ac6a-d523-4a0d-8582-3bc3f8853d8f",
   "metadata": {},
   "outputs": [
    {
     "data": {
      "text/html": [
       "<div>\n",
       "<style scoped>\n",
       "    .dataframe tbody tr th:only-of-type {\n",
       "        vertical-align: middle;\n",
       "    }\n",
       "\n",
       "    .dataframe tbody tr th {\n",
       "        vertical-align: top;\n",
       "    }\n",
       "\n",
       "    .dataframe thead th {\n",
       "        text-align: right;\n",
       "    }\n",
       "</style>\n",
       "<table border=\"1\" class=\"dataframe\">\n",
       "  <thead>\n",
       "    <tr style=\"text-align: right;\">\n",
       "      <th></th>\n",
       "      <th>email</th>\n",
       "      <th>full name</th>\n",
       "    </tr>\n",
       "  </thead>\n",
       "  <tbody>\n",
       "    <tr>\n",
       "      <th>0</th>\n",
       "      <td>john@gmail.com</td>\n",
       "      <td>John smith</td>\n",
       "    </tr>\n",
       "    <tr>\n",
       "      <th>1</th>\n",
       "      <td>jane@gmail.com</td>\n",
       "      <td>jane nolan</td>\n",
       "    </tr>\n",
       "    <tr>\n",
       "      <th>2</th>\n",
       "      <td>doe@gamail.com</td>\n",
       "      <td>doe harry</td>\n",
       "    </tr>\n",
       "    <tr>\n",
       "      <th>3</th>\n",
       "      <td>jack@gmail.com</td>\n",
       "      <td>jack oliver</td>\n",
       "    </tr>\n",
       "  </tbody>\n",
       "</table>\n",
       "</div>"
      ],
      "text/plain": [
       "            email    full name\n",
       "0  john@gmail.com   John smith\n",
       "1  jane@gmail.com   jane nolan\n",
       "2  doe@gamail.com    doe harry\n",
       "3  jack@gmail.com  jack oliver"
      ]
     },
     "execution_count": 173,
     "metadata": {},
     "output_type": "execute_result"
    }
   ],
   "source": [
    "df"
   ]
  },
  {
   "cell_type": "code",
   "execution_count": 175,
   "id": "14b777b3-fdff-4ef2-aa64-bb3e38b680e8",
   "metadata": {},
   "outputs": [],
   "source": [
    "df[['first','last']] = df['full name'].str.split(' ',expand=True)"
   ]
  },
  {
   "cell_type": "markdown",
   "id": "fb76234a-faa2-414e-b1e5-933ffe0d9840",
   "metadata": {},
   "source": [
    "1. **Accessing the 'full name' column**: `df['full name']` retrieves the column named 'full name' from the DataFrame `df`.\n",
    "\n",
    "2. **Splitting the string**: The `.str.split(' ', expand=True)` method is called on the 'full name' column. This method splits each string in the column at the space character (' '), creating separate components for each part of the name.\n",
    "\n",
    "3. **Expanding the result**: The `expand=True` argument ensures that the split results are returned as separate columns in a DataFrame rather than as a Series of lists.\n",
    "\n",
    "4. **Assigning to new columns**: The result of the split operation is assigned to two new columns in the original DataFrame `df`, named 'first' and 'last'. This effectively creates two new columns that contain the first and last names extracted from the 'full name' column.\n",
    "\n",
    "\n",
    "\n",
    "\n"
   ]
  },
  {
   "cell_type": "code",
   "execution_count": 178,
   "id": "d025776f-71d1-485c-805a-d126c7c8bcb2",
   "metadata": {},
   "outputs": [
    {
     "data": {
      "text/html": [
       "<div>\n",
       "<style scoped>\n",
       "    .dataframe tbody tr th:only-of-type {\n",
       "        vertical-align: middle;\n",
       "    }\n",
       "\n",
       "    .dataframe tbody tr th {\n",
       "        vertical-align: top;\n",
       "    }\n",
       "\n",
       "    .dataframe thead th {\n",
       "        text-align: right;\n",
       "    }\n",
       "</style>\n",
       "<table border=\"1\" class=\"dataframe\">\n",
       "  <thead>\n",
       "    <tr style=\"text-align: right;\">\n",
       "      <th></th>\n",
       "      <th>email</th>\n",
       "      <th>full name</th>\n",
       "      <th>first</th>\n",
       "      <th>last</th>\n",
       "    </tr>\n",
       "  </thead>\n",
       "  <tbody>\n",
       "    <tr>\n",
       "      <th>0</th>\n",
       "      <td>john@gmail.com</td>\n",
       "      <td>John smith</td>\n",
       "      <td>John</td>\n",
       "      <td>smith</td>\n",
       "    </tr>\n",
       "    <tr>\n",
       "      <th>1</th>\n",
       "      <td>jane@gmail.com</td>\n",
       "      <td>jane nolan</td>\n",
       "      <td>jane</td>\n",
       "      <td>nolan</td>\n",
       "    </tr>\n",
       "    <tr>\n",
       "      <th>2</th>\n",
       "      <td>doe@gamail.com</td>\n",
       "      <td>doe harry</td>\n",
       "      <td>doe</td>\n",
       "      <td>harry</td>\n",
       "    </tr>\n",
       "    <tr>\n",
       "      <th>3</th>\n",
       "      <td>jack@gmail.com</td>\n",
       "      <td>jack oliver</td>\n",
       "      <td>jack</td>\n",
       "      <td>oliver</td>\n",
       "    </tr>\n",
       "  </tbody>\n",
       "</table>\n",
       "</div>"
      ],
      "text/plain": [
       "            email    full name first    last\n",
       "0  john@gmail.com   John smith  John   smith\n",
       "1  jane@gmail.com   jane nolan  jane   nolan\n",
       "2  doe@gamail.com    doe harry   doe   harry\n",
       "3  jack@gmail.com  jack oliver  jack  oliver"
      ]
     },
     "execution_count": 178,
     "metadata": {},
     "output_type": "execute_result"
    }
   ],
   "source": [
    "df"
   ]
  },
  {
   "cell_type": "code",
   "execution_count": 182,
   "id": "3f7acca8-296b-4c42-aca8-24354542a763",
   "metadata": {},
   "outputs": [],
   "source": [
    "df.drop(columns = ['full name'], inplace = True)"
   ]
  },
  {
   "cell_type": "code",
   "execution_count": 184,
   "id": "82b17ddf-6b4e-424c-8e38-299a0e78b323",
   "metadata": {},
   "outputs": [
    {
     "data": {
      "text/html": [
       "<div>\n",
       "<style scoped>\n",
       "    .dataframe tbody tr th:only-of-type {\n",
       "        vertical-align: middle;\n",
       "    }\n",
       "\n",
       "    .dataframe tbody tr th {\n",
       "        vertical-align: top;\n",
       "    }\n",
       "\n",
       "    .dataframe thead th {\n",
       "        text-align: right;\n",
       "    }\n",
       "</style>\n",
       "<table border=\"1\" class=\"dataframe\">\n",
       "  <thead>\n",
       "    <tr style=\"text-align: right;\">\n",
       "      <th></th>\n",
       "      <th>email</th>\n",
       "      <th>first</th>\n",
       "      <th>last</th>\n",
       "    </tr>\n",
       "  </thead>\n",
       "  <tbody>\n",
       "    <tr>\n",
       "      <th>0</th>\n",
       "      <td>john@gmail.com</td>\n",
       "      <td>John</td>\n",
       "      <td>smith</td>\n",
       "    </tr>\n",
       "    <tr>\n",
       "      <th>1</th>\n",
       "      <td>jane@gmail.com</td>\n",
       "      <td>jane</td>\n",
       "      <td>nolan</td>\n",
       "    </tr>\n",
       "    <tr>\n",
       "      <th>2</th>\n",
       "      <td>doe@gamail.com</td>\n",
       "      <td>doe</td>\n",
       "      <td>harry</td>\n",
       "    </tr>\n",
       "    <tr>\n",
       "      <th>3</th>\n",
       "      <td>jack@gmail.com</td>\n",
       "      <td>jack</td>\n",
       "      <td>oliver</td>\n",
       "    </tr>\n",
       "  </tbody>\n",
       "</table>\n",
       "</div>"
      ],
      "text/plain": [
       "            email first    last\n",
       "0  john@gmail.com  John   smith\n",
       "1  jane@gmail.com  jane   nolan\n",
       "2  doe@gamail.com   doe   harry\n",
       "3  jack@gmail.com  jack  oliver"
      ]
     },
     "execution_count": 184,
     "metadata": {},
     "output_type": "execute_result"
    }
   ],
   "source": [
    "df"
   ]
  },
  {
   "cell_type": "code",
   "execution_count": 188,
   "id": "dbe366a1-3792-4f51-acbc-219380cd64e3",
   "metadata": {},
   "outputs": [],
   "source": [
    "new = pd.DataFrame([{'first':'levi','last':'lucas','email':'levi@gmail.com'}])\n",
    "df = pd.concat([df,new],ignore_index = True)"
   ]
  },
  {
   "cell_type": "markdown",
   "id": "8f6655cf-26c2-4450-8942-41b1b877c5d3",
   "metadata": {},
   "source": [
    "1. `new = pd.DataFrame([{'first':'levi','last':'lucas','email':'levi@gmail.com'}])` - This line creates a new DataFrame named `new` using the `pd.DataFrame()` constructor. It contains a single row with three columns: 'first', 'last', and 'email', populated with the values 'levi', 'lucas', and 'levi@gmail.com', respectively.\n",
    "\n",
    "2. `df = pd.concat([df,new], ignore_index=True)` - This line concatenates the existing DataFrame `df` with the newly created DataFrame `new`. \n",
    "   - `pd.concat()` is used to combine the two DataFrames.\n",
    "   - The first argument is a list containing the DataFrames to concatenate: `[df, new]`.\n",
    "   - `ignore_index=True` ensures that the resulting DataFrame will have a new integer index that runs from 0 to n-1, where n is the total number of rows in the concatenated DataFrame. This prevents index duplication from the original DataFrames."
   ]
  },
  {
   "cell_type": "code",
   "execution_count": 191,
   "id": "5ef1d3ae-5ee1-49da-9262-18c01d065615",
   "metadata": {},
   "outputs": [
    {
     "data": {
      "text/html": [
       "<div>\n",
       "<style scoped>\n",
       "    .dataframe tbody tr th:only-of-type {\n",
       "        vertical-align: middle;\n",
       "    }\n",
       "\n",
       "    .dataframe tbody tr th {\n",
       "        vertical-align: top;\n",
       "    }\n",
       "\n",
       "    .dataframe thead th {\n",
       "        text-align: right;\n",
       "    }\n",
       "</style>\n",
       "<table border=\"1\" class=\"dataframe\">\n",
       "  <thead>\n",
       "    <tr style=\"text-align: right;\">\n",
       "      <th></th>\n",
       "      <th>email</th>\n",
       "      <th>first</th>\n",
       "      <th>last</th>\n",
       "    </tr>\n",
       "  </thead>\n",
       "  <tbody>\n",
       "    <tr>\n",
       "      <th>0</th>\n",
       "      <td>john@gmail.com</td>\n",
       "      <td>John</td>\n",
       "      <td>smith</td>\n",
       "    </tr>\n",
       "    <tr>\n",
       "      <th>1</th>\n",
       "      <td>jane@gmail.com</td>\n",
       "      <td>jane</td>\n",
       "      <td>nolan</td>\n",
       "    </tr>\n",
       "    <tr>\n",
       "      <th>2</th>\n",
       "      <td>doe@gamail.com</td>\n",
       "      <td>doe</td>\n",
       "      <td>harry</td>\n",
       "    </tr>\n",
       "    <tr>\n",
       "      <th>3</th>\n",
       "      <td>jack@gmail.com</td>\n",
       "      <td>jack</td>\n",
       "      <td>oliver</td>\n",
       "    </tr>\n",
       "    <tr>\n",
       "      <th>4</th>\n",
       "      <td>levi@gmail.com</td>\n",
       "      <td>levi</td>\n",
       "      <td>lucas</td>\n",
       "    </tr>\n",
       "  </tbody>\n",
       "</table>\n",
       "</div>"
      ],
      "text/plain": [
       "            email first    last\n",
       "0  john@gmail.com  John   smith\n",
       "1  jane@gmail.com  jane   nolan\n",
       "2  doe@gamail.com   doe   harry\n",
       "3  jack@gmail.com  jack  oliver\n",
       "4  levi@gmail.com  levi   lucas"
      ]
     },
     "execution_count": 191,
     "metadata": {},
     "output_type": "execute_result"
    }
   ],
   "source": [
    "df"
   ]
  },
  {
   "cell_type": "code",
   "execution_count": 199,
   "id": "76eb40e0-1e07-40ba-8c96-1d2a9b486fc6",
   "metadata": {},
   "outputs": [
    {
     "data": {
      "text/plain": [
       "Index([4], dtype='int64')"
      ]
     },
     "execution_count": 199,
     "metadata": {},
     "output_type": "execute_result"
    }
   ],
   "source": [
    "df[df['last'] == 'lucas'].index"
   ]
  },
  {
   "cell_type": "code",
   "execution_count": 203,
   "id": "26b4fa2a-e87b-4407-815f-d75d25770d76",
   "metadata": {},
   "outputs": [],
   "source": [
    "df.drop(index = df[df['last'] == 'lucas'].index, inplace=True)"
   ]
  },
  {
   "cell_type": "markdown",
   "id": "dd440c2c-04da-45c5-ac29-444021821594",
   "metadata": {},
   "source": [
    "\n",
    "1. `df['last'] == 'lucas'` - This creates a boolean Series that checks each row in the 'last' column of the DataFrame `df` to see if it equals 'lucas'. It returns `True` for rows where the condition is met and `False` otherwise.\n",
    "\n",
    "2. `df[df['last'] == 'lucas']` - This filters the DataFrame `df` to include only the rows where the condition is `True`, effectively selecting all rows where the 'last' column has the value 'lucas'.\n",
    "\n",
    "3. `.index` - This retrieves the index labels of the filtered DataFrame, which corresponds to the rows where 'last' is 'lucas'.\n",
    "\n",
    "4. `df.drop(index = ..., inplace=True)` - The `drop()` method is called on the original DataFrame `df`. The `index` parameter is set to the indices obtained in the previous step, meaning it will remove those rows from `df`. The `inplace=True` argument modifies the original DataFrame directly, rather than returning a new DataFrame with the rows removed. "
   ]
  },
  {
   "cell_type": "code",
   "execution_count": 206,
   "id": "3bf6d18b-9d4b-4adb-b206-83e514750074",
   "metadata": {},
   "outputs": [
    {
     "data": {
      "text/html": [
       "<div>\n",
       "<style scoped>\n",
       "    .dataframe tbody tr th:only-of-type {\n",
       "        vertical-align: middle;\n",
       "    }\n",
       "\n",
       "    .dataframe tbody tr th {\n",
       "        vertical-align: top;\n",
       "    }\n",
       "\n",
       "    .dataframe thead th {\n",
       "        text-align: right;\n",
       "    }\n",
       "</style>\n",
       "<table border=\"1\" class=\"dataframe\">\n",
       "  <thead>\n",
       "    <tr style=\"text-align: right;\">\n",
       "      <th></th>\n",
       "      <th>email</th>\n",
       "      <th>first</th>\n",
       "      <th>last</th>\n",
       "    </tr>\n",
       "  </thead>\n",
       "  <tbody>\n",
       "    <tr>\n",
       "      <th>0</th>\n",
       "      <td>john@gmail.com</td>\n",
       "      <td>John</td>\n",
       "      <td>smith</td>\n",
       "    </tr>\n",
       "    <tr>\n",
       "      <th>1</th>\n",
       "      <td>jane@gmail.com</td>\n",
       "      <td>jane</td>\n",
       "      <td>nolan</td>\n",
       "    </tr>\n",
       "    <tr>\n",
       "      <th>2</th>\n",
       "      <td>doe@gamail.com</td>\n",
       "      <td>doe</td>\n",
       "      <td>harry</td>\n",
       "    </tr>\n",
       "    <tr>\n",
       "      <th>3</th>\n",
       "      <td>jack@gmail.com</td>\n",
       "      <td>jack</td>\n",
       "      <td>oliver</td>\n",
       "    </tr>\n",
       "  </tbody>\n",
       "</table>\n",
       "</div>"
      ],
      "text/plain": [
       "            email first    last\n",
       "0  john@gmail.com  John   smith\n",
       "1  jane@gmail.com  jane   nolan\n",
       "2  doe@gamail.com   doe   harry\n",
       "3  jack@gmail.com  jack  oliver"
      ]
     },
     "execution_count": 206,
     "metadata": {},
     "output_type": "execute_result"
    }
   ],
   "source": [
    "df"
   ]
  },
  {
   "cell_type": "code",
   "execution_count": 208,
   "id": "701d867b-8f18-428b-8b78-262725b318e8",
   "metadata": {},
   "outputs": [
    {
     "data": {
      "text/html": [
       "<div>\n",
       "<style scoped>\n",
       "    .dataframe tbody tr th:only-of-type {\n",
       "        vertical-align: middle;\n",
       "    }\n",
       "\n",
       "    .dataframe tbody tr th {\n",
       "        vertical-align: top;\n",
       "    }\n",
       "\n",
       "    .dataframe thead th {\n",
       "        text-align: right;\n",
       "    }\n",
       "</style>\n",
       "<table border=\"1\" class=\"dataframe\">\n",
       "  <thead>\n",
       "    <tr style=\"text-align: right;\">\n",
       "      <th></th>\n",
       "      <th>email</th>\n",
       "      <th>first</th>\n",
       "      <th>last</th>\n",
       "    </tr>\n",
       "  </thead>\n",
       "  <tbody>\n",
       "    <tr>\n",
       "      <th>2</th>\n",
       "      <td>doe@gamail.com</td>\n",
       "      <td>doe</td>\n",
       "      <td>harry</td>\n",
       "    </tr>\n",
       "    <tr>\n",
       "      <th>1</th>\n",
       "      <td>jane@gmail.com</td>\n",
       "      <td>jane</td>\n",
       "      <td>nolan</td>\n",
       "    </tr>\n",
       "    <tr>\n",
       "      <th>3</th>\n",
       "      <td>jack@gmail.com</td>\n",
       "      <td>jack</td>\n",
       "      <td>oliver</td>\n",
       "    </tr>\n",
       "    <tr>\n",
       "      <th>0</th>\n",
       "      <td>john@gmail.com</td>\n",
       "      <td>John</td>\n",
       "      <td>smith</td>\n",
       "    </tr>\n",
       "  </tbody>\n",
       "</table>\n",
       "</div>"
      ],
      "text/plain": [
       "            email first    last\n",
       "2  doe@gamail.com   doe   harry\n",
       "1  jane@gmail.com  jane   nolan\n",
       "3  jack@gmail.com  jack  oliver\n",
       "0  john@gmail.com  John   smith"
      ]
     },
     "execution_count": 208,
     "metadata": {},
     "output_type": "execute_result"
    }
   ],
   "source": [
    "df.sort_values(by='last')"
   ]
  },
  {
   "cell_type": "code",
   "execution_count": 210,
   "id": "d647646f-1c9f-4107-8add-26bcf13fdbb6",
   "metadata": {},
   "outputs": [
    {
     "data": {
      "text/plain": [
       "4"
      ]
     },
     "execution_count": 210,
     "metadata": {},
     "output_type": "execute_result"
    }
   ],
   "source": [
    "df['last'].count()"
   ]
  },
  {
   "cell_type": "markdown",
   "id": "f594c6d4-9ce5-40a4-9769-f68afa012c9a",
   "metadata": {},
   "source": [
    "1. `df` - This refers to a Pandas DataFrame, which is a two-dimensional labeled data structure commonly used for data manipulation and analysis.\n",
    "\n",
    "2. `['last']` - This part accesses the column named 'last' in the DataFrame `df`. It returns a Series containing all the values from that specific column.\n",
    "\n",
    "3. `.count()` - This method is called on the Series obtained from the 'last' column. It counts the number of non-null (non-NaN) entries in that column."
   ]
  },
  {
   "cell_type": "code",
   "execution_count": 215,
   "id": "a6f186bb-4aed-48af-8b41-65c6ffba464d",
   "metadata": {},
   "outputs": [
    {
     "data": {
      "text/html": [
       "<div>\n",
       "<style scoped>\n",
       "    .dataframe tbody tr th:only-of-type {\n",
       "        vertical-align: middle;\n",
       "    }\n",
       "\n",
       "    .dataframe tbody tr th {\n",
       "        vertical-align: top;\n",
       "    }\n",
       "\n",
       "    .dataframe thead th {\n",
       "        text-align: right;\n",
       "    }\n",
       "</style>\n",
       "<table border=\"1\" class=\"dataframe\">\n",
       "  <thead>\n",
       "    <tr style=\"text-align: right;\">\n",
       "      <th></th>\n",
       "      <th>email</th>\n",
       "      <th>first</th>\n",
       "      <th>last</th>\n",
       "    </tr>\n",
       "  </thead>\n",
       "  <tbody>\n",
       "    <tr>\n",
       "      <th>0</th>\n",
       "      <td>john@gmail.com</td>\n",
       "      <td>John</td>\n",
       "      <td>smith</td>\n",
       "    </tr>\n",
       "    <tr>\n",
       "      <th>1</th>\n",
       "      <td>jane@gmail.com</td>\n",
       "      <td>jane</td>\n",
       "      <td>nolan</td>\n",
       "    </tr>\n",
       "    <tr>\n",
       "      <th>2</th>\n",
       "      <td>doe@gamail.com</td>\n",
       "      <td>doe</td>\n",
       "      <td>harry</td>\n",
       "    </tr>\n",
       "    <tr>\n",
       "      <th>3</th>\n",
       "      <td>jack@gmail.com</td>\n",
       "      <td>jack</td>\n",
       "      <td>oliver</td>\n",
       "    </tr>\n",
       "  </tbody>\n",
       "</table>\n",
       "</div>"
      ],
      "text/plain": [
       "            email first    last\n",
       "0  john@gmail.com  John   smith\n",
       "1  jane@gmail.com  jane   nolan\n",
       "2  doe@gamail.com   doe   harry\n",
       "3  jack@gmail.com  jack  oliver"
      ]
     },
     "execution_count": 215,
     "metadata": {},
     "output_type": "execute_result"
    }
   ],
   "source": [
    "df.dropna()"
   ]
  },
  {
   "cell_type": "markdown",
   "id": "3e2270d0-ad14-44b3-bae5-d7df51c335f4",
   "metadata": {},
   "source": [
    "1. `df` - This refers to a Pandas DataFrame, which is a two-dimensional, size-mutable, potentially heterogeneous tabular data structure.\n",
    "\n",
    "2. `.dropna()` - This method is called on the DataFrame `df`. It identifies and removes any rows that have at least one missing value (NaN) in any of their columns.\n",
    "\n",
    "3. By default, `dropna()` returns a new DataFrame with the rows containing NaN values removed, but it does not modify the original DataFrame unless the `inplace=True` parameter is specified."
   ]
  },
  {
   "cell_type": "code",
   "execution_count": 218,
   "id": "af170f34-c3fd-4a94-9faf-e78ca87b8d33",
   "metadata": {},
   "outputs": [
    {
     "data": {
      "text/html": [
       "<div>\n",
       "<style scoped>\n",
       "    .dataframe tbody tr th:only-of-type {\n",
       "        vertical-align: middle;\n",
       "    }\n",
       "\n",
       "    .dataframe tbody tr th {\n",
       "        vertical-align: top;\n",
       "    }\n",
       "\n",
       "    .dataframe thead th {\n",
       "        text-align: right;\n",
       "    }\n",
       "</style>\n",
       "<table border=\"1\" class=\"dataframe\">\n",
       "  <thead>\n",
       "    <tr style=\"text-align: right;\">\n",
       "      <th></th>\n",
       "      <th>email</th>\n",
       "      <th>first</th>\n",
       "      <th>last</th>\n",
       "    </tr>\n",
       "  </thead>\n",
       "  <tbody>\n",
       "    <tr>\n",
       "      <th>0</th>\n",
       "      <td>john@gmail.com</td>\n",
       "      <td>John</td>\n",
       "      <td>smith</td>\n",
       "    </tr>\n",
       "    <tr>\n",
       "      <th>1</th>\n",
       "      <td>jane@gmail.com</td>\n",
       "      <td>jane</td>\n",
       "      <td>nolan</td>\n",
       "    </tr>\n",
       "    <tr>\n",
       "      <th>2</th>\n",
       "      <td>doe@gamail.com</td>\n",
       "      <td>doe</td>\n",
       "      <td>harry</td>\n",
       "    </tr>\n",
       "    <tr>\n",
       "      <th>3</th>\n",
       "      <td>jack@gmail.com</td>\n",
       "      <td>jack</td>\n",
       "      <td>oliver</td>\n",
       "    </tr>\n",
       "  </tbody>\n",
       "</table>\n",
       "</div>"
      ],
      "text/plain": [
       "            email first    last\n",
       "0  john@gmail.com  John   smith\n",
       "1  jane@gmail.com  jane   nolan\n",
       "2  doe@gamail.com   doe   harry\n",
       "3  jack@gmail.com  jack  oliver"
      ]
     },
     "execution_count": 218,
     "metadata": {},
     "output_type": "execute_result"
    }
   ],
   "source": [
    "df.dropna(axis='index',how ='all')"
   ]
  },
  {
   "cell_type": "markdown",
   "id": "f97aed55-a2e6-44c3-9e08-c28a8f36a3ae",
   "metadata": {},
   "source": [
    "1. `df` - This refers to the DataFrame from which you want to drop rows.\n",
    "\n",
    "2. `.dropna()` - This is a method of the DataFrame that is used to remove missing values.\n",
    "\n",
    "3. `axis='index'` - This argument specifies that the operation should be performed along the index (rows). If it were set to `axis=1`, it would operate on columns instead.\n",
    "\n",
    "4. `how='all'` - This argument indicates that a row should be dropped only if all of its values are NaN. If any value in the row is not NaN, the row will be retained"
   ]
  },
  {
   "cell_type": "code",
   "execution_count": 221,
   "id": "f7015037-364c-45de-bbd8-3e0d04295f5d",
   "metadata": {},
   "outputs": [
    {
     "data": {
      "text/html": [
       "<div>\n",
       "<style scoped>\n",
       "    .dataframe tbody tr th:only-of-type {\n",
       "        vertical-align: middle;\n",
       "    }\n",
       "\n",
       "    .dataframe tbody tr th {\n",
       "        vertical-align: top;\n",
       "    }\n",
       "\n",
       "    .dataframe thead th {\n",
       "        text-align: right;\n",
       "    }\n",
       "</style>\n",
       "<table border=\"1\" class=\"dataframe\">\n",
       "  <thead>\n",
       "    <tr style=\"text-align: right;\">\n",
       "      <th></th>\n",
       "      <th>email</th>\n",
       "      <th>first</th>\n",
       "      <th>last</th>\n",
       "    </tr>\n",
       "  </thead>\n",
       "  <tbody>\n",
       "    <tr>\n",
       "      <th>0</th>\n",
       "      <td>False</td>\n",
       "      <td>False</td>\n",
       "      <td>False</td>\n",
       "    </tr>\n",
       "    <tr>\n",
       "      <th>1</th>\n",
       "      <td>False</td>\n",
       "      <td>False</td>\n",
       "      <td>False</td>\n",
       "    </tr>\n",
       "    <tr>\n",
       "      <th>2</th>\n",
       "      <td>False</td>\n",
       "      <td>False</td>\n",
       "      <td>False</td>\n",
       "    </tr>\n",
       "    <tr>\n",
       "      <th>3</th>\n",
       "      <td>False</td>\n",
       "      <td>False</td>\n",
       "      <td>False</td>\n",
       "    </tr>\n",
       "  </tbody>\n",
       "</table>\n",
       "</div>"
      ],
      "text/plain": [
       "   email  first   last\n",
       "0  False  False  False\n",
       "1  False  False  False\n",
       "2  False  False  False\n",
       "3  False  False  False"
      ]
     },
     "execution_count": 221,
     "metadata": {},
     "output_type": "execute_result"
    }
   ],
   "source": [
    "df.isna()"
   ]
  },
  {
   "cell_type": "markdown",
   "id": "26bc90c4-0b34-429b-b14a-c88a5d87a724",
   "metadata": {},
   "source": [
    "\n",
    "1. `df` - This refers to a pandas DataFrame that contains your data.\n",
    "\n",
    "2. `.isna()` - This method is called on the DataFrame. It returns a new DataFrame of the same shape as `df`, where each element is a boolean value: `True` if the corresponding element in `df` is missing (NaN), and `False` if it is not."
   ]
  },
  {
   "cell_type": "code",
   "execution_count": 224,
   "id": "57ce3944-661d-4e6b-98a1-26a11dfa27ab",
   "metadata": {},
   "outputs": [
    {
     "data": {
      "text/plain": [
       "array(['john@gmail.com', 'jane@gmail.com', 'doe@gamail.com',\n",
       "       'jack@gmail.com'], dtype=object)"
      ]
     },
     "execution_count": 224,
     "metadata": {},
     "output_type": "execute_result"
    }
   ],
   "source": [
    "df['email'].unique()"
   ]
  },
  {
   "cell_type": "markdown",
   "id": "595613c6-4901-4ad9-aef9-52b2565ba256",
   "metadata": {},
   "source": [
    "\n",
    "1. `df` - This refers to a pandas DataFrame that contains various data, including an 'email' column.\n",
    "\n",
    "2. `['email']` - This part accesses the 'email' column of the DataFrame. It returns a Series containing all the values in that column.\n",
    "\n",
    "3. `.unique()` - This method is called on the Series obtained from the 'email' column. It returns an array of the unique values present in that column, eliminating any duplicates"
   ]
  },
  {
   "cell_type": "code",
   "execution_count": null,
   "id": "3faee69b-2056-4df0-83fd-abf2cb9b7ac0",
   "metadata": {},
   "outputs": [],
   "source": []
  }
 ],
 "metadata": {
  "kernelspec": {
   "display_name": "Python [conda env:base] *",
   "language": "python",
   "name": "conda-base-py"
  },
  "language_info": {
   "codemirror_mode": {
    "name": "ipython",
    "version": 3
   },
   "file_extension": ".py",
   "mimetype": "text/x-python",
   "name": "python",
   "nbconvert_exporter": "python",
   "pygments_lexer": "ipython3",
   "version": "3.12.7"
  }
 },
 "nbformat": 4,
 "nbformat_minor": 5
}
